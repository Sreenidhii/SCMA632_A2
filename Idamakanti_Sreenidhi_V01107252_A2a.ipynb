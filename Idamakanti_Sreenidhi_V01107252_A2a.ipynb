{
 "cells": [
  {
   "cell_type": "code",
   "execution_count": 41,
   "id": "61dc2441",
   "metadata": {},
   "outputs": [],
   "source": [
    "import pandas as pd\n",
    "import numpy as np\n",
    "from sklearn.linear_model import LinearRegression\n",
    "from statsmodels.stats.outliers_influence import variance_inflation_factor"
   ]
  },
  {
   "cell_type": "code",
   "execution_count": 42,
   "id": "37999238",
   "metadata": {},
   "outputs": [],
   "source": [
    "import os\n",
    "os.chdir('D:\\\\CHRIST\\\\Boot camp\\\\DATA')"
   ]
  },
  {
   "cell_type": "code",
   "execution_count": 43,
   "id": "32b71175",
   "metadata": {},
   "outputs": [
    {
     "name": "stderr",
     "output_type": "stream",
     "text": [
      "C:\\Users\\isrin\\AppData\\Local\\Temp\\ipykernel_22444\\95208774.py:2: DtypeWarning: Columns (1) have mixed types. Specify dtype option on import or set low_memory=False.\n",
      "  data = pd.read_csv(\"NSSO68.csv\")\n"
     ]
    }
   ],
   "source": [
    "# Load the dataset\n",
    "data = pd.read_csv(\"NSSO68.csv\")"
   ]
  },
  {
   "cell_type": "code",
   "execution_count": 44,
   "id": "6456c9e0",
   "metadata": {},
   "outputs": [],
   "source": [
    "df=pd.read_csv(\"NSSO68.csv\",encoding=\"Latin-1\", low_memory=False)"
   ]
  },
  {
   "cell_type": "code",
   "execution_count": 45,
   "id": "09a64aa5",
   "metadata": {},
   "outputs": [
    {
     "data": {
      "text/html": [
       "<div>\n",
       "<style scoped>\n",
       "    .dataframe tbody tr th:only-of-type {\n",
       "        vertical-align: middle;\n",
       "    }\n",
       "\n",
       "    .dataframe tbody tr th {\n",
       "        vertical-align: top;\n",
       "    }\n",
       "\n",
       "    .dataframe thead th {\n",
       "        text-align: right;\n",
       "    }\n",
       "</style>\n",
       "<table border=\"1\" class=\"dataframe\">\n",
       "  <thead>\n",
       "    <tr style=\"text-align: right;\">\n",
       "      <th></th>\n",
       "      <th>slno</th>\n",
       "      <th>grp</th>\n",
       "      <th>Round_Centre</th>\n",
       "      <th>FSU_number</th>\n",
       "      <th>Round</th>\n",
       "      <th>Schedule_Number</th>\n",
       "      <th>Sample</th>\n",
       "      <th>Sector</th>\n",
       "      <th>state</th>\n",
       "      <th>State_Region</th>\n",
       "      <th>...</th>\n",
       "      <th>pickle_v</th>\n",
       "      <th>sauce_jam_v</th>\n",
       "      <th>Othrprocessed_v</th>\n",
       "      <th>Beveragestotal_v</th>\n",
       "      <th>foodtotal_v</th>\n",
       "      <th>foodtotal_q</th>\n",
       "      <th>state_1</th>\n",
       "      <th>Region</th>\n",
       "      <th>fruits_df_tt_v</th>\n",
       "      <th>fv_tot</th>\n",
       "    </tr>\n",
       "  </thead>\n",
       "  <tbody>\n",
       "    <tr>\n",
       "      <th>0</th>\n",
       "      <td>1</td>\n",
       "      <td>4.10E+31</td>\n",
       "      <td>1</td>\n",
       "      <td>41000</td>\n",
       "      <td>68</td>\n",
       "      <td>10</td>\n",
       "      <td>1</td>\n",
       "      <td>2</td>\n",
       "      <td>24</td>\n",
       "      <td>242</td>\n",
       "      <td>...</td>\n",
       "      <td>0.0</td>\n",
       "      <td>0.0</td>\n",
       "      <td>0.0</td>\n",
       "      <td>0.000000</td>\n",
       "      <td>1141.492400</td>\n",
       "      <td>30.942394</td>\n",
       "      <td>GUJ</td>\n",
       "      <td>2</td>\n",
       "      <td>12.000000</td>\n",
       "      <td>154.18</td>\n",
       "    </tr>\n",
       "    <tr>\n",
       "      <th>1</th>\n",
       "      <td>2</td>\n",
       "      <td>4.10E+31</td>\n",
       "      <td>1</td>\n",
       "      <td>41000</td>\n",
       "      <td>68</td>\n",
       "      <td>10</td>\n",
       "      <td>1</td>\n",
       "      <td>2</td>\n",
       "      <td>24</td>\n",
       "      <td>242</td>\n",
       "      <td>...</td>\n",
       "      <td>0.0</td>\n",
       "      <td>0.0</td>\n",
       "      <td>0.0</td>\n",
       "      <td>17.500000</td>\n",
       "      <td>1244.553500</td>\n",
       "      <td>29.286153</td>\n",
       "      <td>GUJ</td>\n",
       "      <td>2</td>\n",
       "      <td>333.000000</td>\n",
       "      <td>484.95</td>\n",
       "    </tr>\n",
       "    <tr>\n",
       "      <th>2</th>\n",
       "      <td>3</td>\n",
       "      <td>4.10E+31</td>\n",
       "      <td>1</td>\n",
       "      <td>41000</td>\n",
       "      <td>68</td>\n",
       "      <td>10</td>\n",
       "      <td>1</td>\n",
       "      <td>2</td>\n",
       "      <td>24</td>\n",
       "      <td>242</td>\n",
       "      <td>...</td>\n",
       "      <td>0.0</td>\n",
       "      <td>0.0</td>\n",
       "      <td>0.0</td>\n",
       "      <td>0.000000</td>\n",
       "      <td>1050.315400</td>\n",
       "      <td>31.527046</td>\n",
       "      <td>GUJ</td>\n",
       "      <td>2</td>\n",
       "      <td>35.000000</td>\n",
       "      <td>214.84</td>\n",
       "    </tr>\n",
       "    <tr>\n",
       "      <th>3</th>\n",
       "      <td>4</td>\n",
       "      <td>4.10E+31</td>\n",
       "      <td>1</td>\n",
       "      <td>41000</td>\n",
       "      <td>68</td>\n",
       "      <td>10</td>\n",
       "      <td>1</td>\n",
       "      <td>2</td>\n",
       "      <td>24</td>\n",
       "      <td>242</td>\n",
       "      <td>...</td>\n",
       "      <td>0.0</td>\n",
       "      <td>0.0</td>\n",
       "      <td>0.0</td>\n",
       "      <td>33.333333</td>\n",
       "      <td>1142.591667</td>\n",
       "      <td>27.834607</td>\n",
       "      <td>GUJ</td>\n",
       "      <td>2</td>\n",
       "      <td>168.333333</td>\n",
       "      <td>302.30</td>\n",
       "    </tr>\n",
       "    <tr>\n",
       "      <th>4</th>\n",
       "      <td>5</td>\n",
       "      <td>4.10E+31</td>\n",
       "      <td>1</td>\n",
       "      <td>41000</td>\n",
       "      <td>68</td>\n",
       "      <td>10</td>\n",
       "      <td>1</td>\n",
       "      <td>2</td>\n",
       "      <td>24</td>\n",
       "      <td>242</td>\n",
       "      <td>...</td>\n",
       "      <td>0.0</td>\n",
       "      <td>0.0</td>\n",
       "      <td>0.0</td>\n",
       "      <td>75.000000</td>\n",
       "      <td>945.249500</td>\n",
       "      <td>27.600713</td>\n",
       "      <td>GUJ</td>\n",
       "      <td>2</td>\n",
       "      <td>15.000000</td>\n",
       "      <td>148.00</td>\n",
       "    </tr>\n",
       "  </tbody>\n",
       "</table>\n",
       "<p>5 rows × 384 columns</p>\n",
       "</div>"
      ],
      "text/plain": [
       "   slno       grp  Round_Centre  FSU_number  Round  Schedule_Number  Sample  \\\n",
       "0     1  4.10E+31             1       41000     68               10       1   \n",
       "1     2  4.10E+31             1       41000     68               10       1   \n",
       "2     3  4.10E+31             1       41000     68               10       1   \n",
       "3     4  4.10E+31             1       41000     68               10       1   \n",
       "4     5  4.10E+31             1       41000     68               10       1   \n",
       "\n",
       "   Sector  state  State_Region  ...  pickle_v  sauce_jam_v  Othrprocessed_v  \\\n",
       "0       2     24           242  ...       0.0          0.0              0.0   \n",
       "1       2     24           242  ...       0.0          0.0              0.0   \n",
       "2       2     24           242  ...       0.0          0.0              0.0   \n",
       "3       2     24           242  ...       0.0          0.0              0.0   \n",
       "4       2     24           242  ...       0.0          0.0              0.0   \n",
       "\n",
       "   Beveragestotal_v  foodtotal_v  foodtotal_q  state_1  Region  \\\n",
       "0          0.000000  1141.492400    30.942394      GUJ       2   \n",
       "1         17.500000  1244.553500    29.286153      GUJ       2   \n",
       "2          0.000000  1050.315400    31.527046      GUJ       2   \n",
       "3         33.333333  1142.591667    27.834607      GUJ       2   \n",
       "4         75.000000   945.249500    27.600713      GUJ       2   \n",
       "\n",
       "   fruits_df_tt_v  fv_tot  \n",
       "0       12.000000  154.18  \n",
       "1      333.000000  484.95  \n",
       "2       35.000000  214.84  \n",
       "3      168.333333  302.30  \n",
       "4       15.000000  148.00  \n",
       "\n",
       "[5 rows x 384 columns]"
      ]
     },
     "execution_count": 45,
     "metadata": {},
     "output_type": "execute_result"
    }
   ],
   "source": [
    "df.head()"
   ]
  },
  {
   "cell_type": "code",
   "execution_count": 46,
   "id": "86d59718",
   "metadata": {},
   "outputs": [
    {
     "name": "stdout",
     "output_type": "stream",
     "text": [
      "['GUJ' 'ORI' 'CHTSD' 'MP' 'JRKD' 'WB' 'AP' 'MH' 'D&D' 'D&NH' 'MIZ' 'TRPR'\n",
      " 'MANPR' 'ASSM' 'MEG' 'NAG' 'A&N' 'PNDCRY' 'TN' 'GOA' 'KA' 'KE' 'LKSDP'\n",
      " 'SKM' 'Bhr' 'UP' 'RJ' 'ARP' 'DL' 'HR' 'Pun' 'HP' 'UT' 'Chandr' 'J$K']\n"
     ]
    }
   ],
   "source": [
    "# Unique values in the 'State_1' column\n",
    "print(data['state_1'].unique())"
   ]
  },
  {
   "cell_type": "code",
   "execution_count": 47,
   "id": "e73789d1",
   "metadata": {},
   "outputs": [
    {
     "name": "stdout",
     "output_type": "stream",
     "text": [
      "       foodtotal_q  MPCE_MRP       MLT  hhdsz  MPCE_URP  Age  \\\n",
      "13496    23.025980   2830.80   31350.0      4   2392.75   44   \n",
      "13497    15.517143   1500.77  108075.0      6   1098.17   30   \n",
      "13498    20.760920   2513.36  108075.0      1   2215.00   25   \n",
      "13499    16.267077   1138.80    8250.0      6   1058.50   35   \n",
      "13500    30.388403   4078.26   79200.0      4   3652.75   30   \n",
      "...            ...       ...       ...    ...       ...  ...   \n",
      "78855    13.286009    656.49   13205.0      7    608.00   55   \n",
      "78856    17.875412   1402.78   23580.0      8   1277.50   49   \n",
      "78857    16.500424    879.76  205146.0      7    795.43   50   \n",
      "78858    17.500290    986.07  205146.0      5    917.40   52   \n",
      "78859    28.930667   2313.31   23580.0      3   2158.33   33   \n",
      "\n",
      "       Meals_seved_to_non_hhld_members  Meals_At_Home  Possess_ration_card  \\\n",
      "13496                              NaN           60.0                  1.0   \n",
      "13497                              NaN           60.0                  1.0   \n",
      "13498                              NaN           60.0                  1.0   \n",
      "13499                              NaN           60.0                  1.0   \n",
      "13500                              NaN           60.0                  1.0   \n",
      "...                                ...            ...                  ...   \n",
      "78855                              0.0           60.0                  1.0   \n",
      "78856                              0.0           60.0                  1.0   \n",
      "78857                              0.0           60.0                  1.0   \n",
      "78858                              0.0           60.0                  1.0   \n",
      "78859                              0.0           60.0                  2.0   \n",
      "\n",
      "       Education  No_of_Meals_per_day  \n",
      "13496        7.0                  2.0  \n",
      "13497        8.0                  2.0  \n",
      "13498        8.0                  2.0  \n",
      "13499        8.0                  2.0  \n",
      "13500       10.0                  2.0  \n",
      "...          ...                  ...  \n",
      "78855        1.0                  2.0  \n",
      "78856        1.0                  2.0  \n",
      "78857        1.0                  2.0  \n",
      "78858        1.0                  2.0  \n",
      "78859        8.0                  2.0  \n",
      "\n",
      "[192 rows x 11 columns]\n"
     ]
    }
   ],
   "source": [
    "# Subset data to state assigned\n",
    "subset_data = data[data['state_1'] == 'D&NH'][['foodtotal_q', 'MPCE_MRP', 'MLT', 'hhdsz', 'MPCE_URP', 'Age', 'Meals_seved_to_non_hhld_members', 'Meals_At_Home', 'Possess_ration_card', 'Education', 'No_of_Meals_per_day']]\n",
    "print(subset_data)"
   ]
  },
  {
   "cell_type": "code",
   "execution_count": 48,
   "id": "ff6e4334",
   "metadata": {},
   "outputs": [
    {
     "name": "stdout",
     "output_type": "stream",
     "text": [
      "0\n",
      "0\n",
      "0\n",
      "0\n",
      "0\n",
      "0\n",
      "24\n",
      "0\n"
     ]
    }
   ],
   "source": [
    "# Check for missing values\n",
    "print(subset_data['MPCE_MRP'].isna().sum())\n",
    "print(subset_data['MPCE_URP'].isna().sum())\n",
    "print(subset_data['Age'].isna().sum())\n",
    "print(subset_data['Possess_ration_card'].isna().sum())\n",
    "print(subset_data['Education'].isna().sum())\n",
    "print(subset_data['MLT'].isna().sum())\n",
    "print(subset_data['Meals_seved_to_non_hhld_members'].isna().sum())\n",
    "print(subset_data['hhdsz'].isna().sum())\n"
   ]
  },
  {
   "cell_type": "code",
   "execution_count": 49,
   "id": "0bf66e4e",
   "metadata": {},
   "outputs": [],
   "source": [
    "# Impute missing values with mean\n",
    "def impute_with_mean(df, columns):\n",
    "    for col in columns:\n",
    "        df[col].fillna(df[col].mean(), inplace=True)\n",
    "    return df"
   ]
  },
  {
   "cell_type": "code",
   "execution_count": 50,
   "id": "3ef61731",
   "metadata": {},
   "outputs": [],
   "source": [
    "# Columns to impute\n",
    "columns_to_impute = ['Meals_seved_to_non_hhld_members']"
   ]
  },
  {
   "cell_type": "code",
   "execution_count": 51,
   "id": "782f801b",
   "metadata": {},
   "outputs": [],
   "source": [
    "# Impute missing values with mean\n",
    "subset_data = impute_with_mean(subset_data, columns_to_impute)"
   ]
  },
  {
   "cell_type": "code",
   "execution_count": 52,
   "id": "b8d90632",
   "metadata": {},
   "outputs": [
    {
     "name": "stdout",
     "output_type": "stream",
     "text": [
      "0\n"
     ]
    }
   ],
   "source": [
    "# Check if imputation was successful\n",
    "print(subset_data['Meals_seved_to_non_hhld_members'].isna().sum())"
   ]
  },
  {
   "cell_type": "code",
   "execution_count": 53,
   "id": "ae5612e7",
   "metadata": {},
   "outputs": [
    {
     "data": {
      "text/html": [
       "<style>#sk-container-id-3 {color: black;}#sk-container-id-3 pre{padding: 0;}#sk-container-id-3 div.sk-toggleable {background-color: white;}#sk-container-id-3 label.sk-toggleable__label {cursor: pointer;display: block;width: 100%;margin-bottom: 0;padding: 0.3em;box-sizing: border-box;text-align: center;}#sk-container-id-3 label.sk-toggleable__label-arrow:before {content: \"▸\";float: left;margin-right: 0.25em;color: #696969;}#sk-container-id-3 label.sk-toggleable__label-arrow:hover:before {color: black;}#sk-container-id-3 div.sk-estimator:hover label.sk-toggleable__label-arrow:before {color: black;}#sk-container-id-3 div.sk-toggleable__content {max-height: 0;max-width: 0;overflow: hidden;text-align: left;background-color: #f0f8ff;}#sk-container-id-3 div.sk-toggleable__content pre {margin: 0.2em;color: black;border-radius: 0.25em;background-color: #f0f8ff;}#sk-container-id-3 input.sk-toggleable__control:checked~div.sk-toggleable__content {max-height: 200px;max-width: 100%;overflow: auto;}#sk-container-id-3 input.sk-toggleable__control:checked~label.sk-toggleable__label-arrow:before {content: \"▾\";}#sk-container-id-3 div.sk-estimator input.sk-toggleable__control:checked~label.sk-toggleable__label {background-color: #d4ebff;}#sk-container-id-3 div.sk-label input.sk-toggleable__control:checked~label.sk-toggleable__label {background-color: #d4ebff;}#sk-container-id-3 input.sk-hidden--visually {border: 0;clip: rect(1px 1px 1px 1px);clip: rect(1px, 1px, 1px, 1px);height: 1px;margin: -1px;overflow: hidden;padding: 0;position: absolute;width: 1px;}#sk-container-id-3 div.sk-estimator {font-family: monospace;background-color: #f0f8ff;border: 1px dotted black;border-radius: 0.25em;box-sizing: border-box;margin-bottom: 0.5em;}#sk-container-id-3 div.sk-estimator:hover {background-color: #d4ebff;}#sk-container-id-3 div.sk-parallel-item::after {content: \"\";width: 100%;border-bottom: 1px solid gray;flex-grow: 1;}#sk-container-id-3 div.sk-label:hover label.sk-toggleable__label {background-color: #d4ebff;}#sk-container-id-3 div.sk-serial::before {content: \"\";position: absolute;border-left: 1px solid gray;box-sizing: border-box;top: 0;bottom: 0;left: 50%;z-index: 0;}#sk-container-id-3 div.sk-serial {display: flex;flex-direction: column;align-items: center;background-color: white;padding-right: 0.2em;padding-left: 0.2em;position: relative;}#sk-container-id-3 div.sk-item {position: relative;z-index: 1;}#sk-container-id-3 div.sk-parallel {display: flex;align-items: stretch;justify-content: center;background-color: white;position: relative;}#sk-container-id-3 div.sk-item::before, #sk-container-id-3 div.sk-parallel-item::before {content: \"\";position: absolute;border-left: 1px solid gray;box-sizing: border-box;top: 0;bottom: 0;left: 50%;z-index: -1;}#sk-container-id-3 div.sk-parallel-item {display: flex;flex-direction: column;z-index: 1;position: relative;background-color: white;}#sk-container-id-3 div.sk-parallel-item:first-child::after {align-self: flex-end;width: 50%;}#sk-container-id-3 div.sk-parallel-item:last-child::after {align-self: flex-start;width: 50%;}#sk-container-id-3 div.sk-parallel-item:only-child::after {width: 0;}#sk-container-id-3 div.sk-dashed-wrapped {border: 1px dashed gray;margin: 0 0.4em 0.5em 0.4em;box-sizing: border-box;padding-bottom: 0.4em;background-color: white;}#sk-container-id-3 div.sk-label label {font-family: monospace;font-weight: bold;display: inline-block;line-height: 1.2em;}#sk-container-id-3 div.sk-label-container {text-align: center;}#sk-container-id-3 div.sk-container {/* jupyter's `normalize.less` sets `[hidden] { display: none; }` but bootstrap.min.css set `[hidden] { display: none !important; }` so we also need the `!important` here to be able to override the default hidden behavior on the sphinx rendered scikit-learn.org. See: https://github.com/scikit-learn/scikit-learn/issues/21755 */display: inline-block !important;position: relative;}#sk-container-id-3 div.sk-text-repr-fallback {display: none;}</style><div id=\"sk-container-id-3\" class=\"sk-top-container\"><div class=\"sk-text-repr-fallback\"><pre>LinearRegression()</pre><b>In a Jupyter environment, please rerun this cell to show the HTML representation or trust the notebook. <br />On GitHub, the HTML representation is unable to render, please try loading this page with nbviewer.org.</b></div><div class=\"sk-container\" hidden><div class=\"sk-item\"><div class=\"sk-estimator sk-toggleable\"><input class=\"sk-toggleable__control sk-hidden--visually\" id=\"sk-estimator-id-3\" type=\"checkbox\" checked><label for=\"sk-estimator-id-3\" class=\"sk-toggleable__label sk-toggleable__label-arrow\">LinearRegression</label><div class=\"sk-toggleable__content\"><pre>LinearRegression()</pre></div></div></div></div></div>"
      ],
      "text/plain": [
       "LinearRegression()"
      ]
     },
     "execution_count": 53,
     "metadata": {},
     "output_type": "execute_result"
    }
   ],
   "source": [
    "# Fit the regression model\n",
    "X = subset_data[['MPCE_MRP', 'MPCE_URP', 'Age', 'Meals_At_Home', 'Possess_ration_card', 'Education']]\n",
    "y = subset_data['foodtotal_q']\n",
    "model = LinearRegression()\n",
    "model.fit(X, y)"
   ]
  },
  {
   "cell_type": "code",
   "execution_count": 54,
   "id": "78524dd0",
   "metadata": {},
   "outputs": [
    {
     "name": "stdout",
     "output_type": "stream",
     "text": [
      "[ 4.72615999e-03 -9.85124497e-05  5.09191679e-03  3.24538880e-01\n",
      "  2.10147867e+00 -3.44715091e-02]\n",
      "-11.928952914164825\n"
     ]
    }
   ],
   "source": [
    "# Print the regression results\n",
    "print(model.coef_)\n",
    "print(model.intercept_)"
   ]
  },
  {
   "cell_type": "code",
   "execution_count": 55,
   "id": "d3e762ab",
   "metadata": {},
   "outputs": [
    {
     "name": "stdout",
     "output_type": "stream",
     "text": [
      "         VIF             features\n",
      "0   9.769406             MPCE_MRP\n",
      "1   4.307667             MPCE_URP\n",
      "2  13.071138                  Age\n",
      "3  22.565816        Meals_At_Home\n",
      "4   8.208124  Possess_ration_card\n",
      "5   6.398299            Education\n"
     ]
    }
   ],
   "source": [
    "# Check for multicollinearity using Variance Inflation Factor (VIF)\n",
    "vif = pd.DataFrame()\n",
    "vif['VIF'] = [variance_inflation_factor(X.values, i) for i in range(X.shape[1])]\n",
    "vif['features'] = X.columns\n",
    "print(vif)"
   ]
  },
  {
   "cell_type": "code",
   "execution_count": 56,
   "id": "c21c9090",
   "metadata": {},
   "outputs": [
    {
     "name": "stdout",
     "output_type": "stream",
     "text": [
      "                            OLS Regression Results                            \n",
      "==============================================================================\n",
      "Dep. Variable:            foodtotal_q   R-squared:                       0.815\n",
      "Model:                            OLS   Adj. R-squared:                  0.807\n",
      "Method:                 Least Squares   F-statistic:                     107.2\n",
      "Date:                Sun, 23 Jun 2024   Prob (F-statistic):           5.84e-51\n",
      "Time:                        20:39:32   Log-Likelihood:                -390.80\n",
      "No. Observations:                 153   AIC:                             795.6\n",
      "Df Residuals:                     146   BIC:                             816.8\n",
      "Df Model:                           6                                         \n",
      "Covariance Type:            nonrobust                                         \n",
      "=======================================================================================\n",
      "                          coef    std err          t      P>|t|      [0.025      0.975]\n",
      "---------------------------------------------------------------------------------------\n",
      "const                  -7.5331      2.637     -2.857      0.005     -12.745      -2.321\n",
      "MPCE_MRP                0.0052      0.000     15.026      0.000       0.005       0.006\n",
      "MPCE_URP               -0.0002      0.000     -1.321      0.189      -0.001       0.000\n",
      "Age                     0.0023      0.025      0.092      0.926      -0.048       0.052\n",
      "Meals_At_Home           0.2503      0.038      6.526      0.000       0.175       0.326\n",
      "Possess_ration_card     1.9989      0.639      3.126      0.002       0.735       3.263\n",
      "Education              -0.0892      0.095     -0.936      0.351      -0.277       0.099\n",
      "==============================================================================\n",
      "Omnibus:                       14.871   Durbin-Watson:                   2.093\n",
      "Prob(Omnibus):                  0.001   Jarque-Bera (JB):               29.412\n",
      "Skew:                           0.413   Prob(JB):                     4.10e-07\n",
      "Kurtosis:                       4.983   Cond. No.                     3.55e+04\n",
      "==============================================================================\n",
      "\n",
      "Notes:\n",
      "[1] Standard Errors assume that the covariance matrix of the errors is correctly specified.\n",
      "[2] The condition number is large, 3.55e+04. This might indicate that there are\n",
      "strong multicollinearity or other numerical problems.\n"
     ]
    }
   ],
   "source": [
    "import pandas as pd\n",
    "from sklearn.model_selection import train_test_split\n",
    "import statsmodels.api as sm\n",
    "\n",
    "# Define the feature and target variables\n",
    "X = subset_data[['MPCE_MRP', 'MPCE_URP', 'Age', 'Meals_At_Home', 'Possess_ration_card', 'Education']]\n",
    "y = subset_data['foodtotal_q']\n",
    "\n",
    "# Split the data into training and testing sets\n",
    "X_train, X_test, y_train, y_test = train_test_split(X, y, test_size=0.2, random_state=42)\n",
    "\n",
    "# Create a Linear Regression model\n",
    "model = LinearRegression()\n",
    "\n",
    "# Train the model\n",
    "model.fit(X_train, y_train)\n",
    "\n",
    "# Make predictions on the testing set\n",
    "y_pred = model.predict(X_test)\n",
    "\n",
    "# Add a constant to the model (intercept)\n",
    "X_train_sm = sm.add_constant(X_train)\n",
    "\n",
    "# Create a statsmodels OLS regression model\n",
    "model = sm.OLS(y_train, X_train_sm).fit()\n",
    "\n",
    "# Get the summary of the model\n",
    "summary = model.summary()\n",
    "print(summary)\n"
   ]
  },
  {
   "cell_type": "code",
   "execution_count": 57,
   "id": "c6a766a8",
   "metadata": {},
   "outputs": [
    {
     "name": "stdout",
     "output_type": "stream",
     "text": [
      "Equation: y = -7.533132392 + 0.005226757*x0 + -0.000241361*x1 + 0.002336219*x2 + 0.25031637*x3 + 1.998909915*x4 + -0.089175012*x5\n"
     ]
    }
   ],
   "source": [
    "# Construct the equation\n",
    "equation = \"y = \" + str(round(model.params[0], 9))\n",
    "for i, coef in enumerate(model.params[1:]):\n",
    "    equation += \" + \" + str(round(coef, 9)) + \"*x\" + str(i)\n",
    "print(\"Equation:\", equation)"
   ]
  },
  {
   "cell_type": "code",
   "execution_count": 40,
   "id": "a99dbe05",
   "metadata": {},
   "outputs": [
    {
     "name": "stdout",
     "output_type": "stream",
     "text": [
      "       foodtotal_q  MPCE_MRP      MLT  hhdsz  MPCE_URP  Age  \\\n",
      "13496     23.02598    2830.8  31350.0      4   2392.75   44   \n",
      "\n",
      "       Meals_seved_to_non_hhld_members  Meals_At_Home  Possess_ration_card  \\\n",
      "13496                         1.220238           60.0                  1.0   \n",
      "\n",
      "       Education  No_of_Meals_per_day  \n",
      "13496        7.0                  2.0  \n"
     ]
    }
   ],
   "source": [
    "# Print the first row of each column\n",
    "print(subset_data.head(1))"
   ]
  }
 ],
 "metadata": {
  "kernelspec": {
   "display_name": "Python 3 (ipykernel)",
   "language": "python",
   "name": "python3"
  },
  "language_info": {
   "codemirror_mode": {
    "name": "ipython",
    "version": 3
   },
   "file_extension": ".py",
   "mimetype": "text/x-python",
   "name": "python",
   "nbconvert_exporter": "python",
   "pygments_lexer": "ipython3",
   "version": "3.11.5"
  }
 },
 "nbformat": 4,
 "nbformat_minor": 5
}
